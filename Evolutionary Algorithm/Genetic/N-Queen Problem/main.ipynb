{
  "nbformat": 4,
  "nbformat_minor": 0,
  "metadata": {
    "colab": {
      "provenance": [],
      "collapsed_sections": [
        "WogSZ4CyPQPL",
        "6mj3bYe8O0Oa",
        "d_eAVZj-UdS6",
        "HJ5X8As7flxG",
        "EvdDD6eCyU04"
      ],
      "authorship_tag": "ABX9TyNltA4bNZ0YmayDc1D7PP72",
      "include_colab_link": true
    },
    "kernelspec": {
      "name": "python3",
      "display_name": "Python 3"
    },
    "language_info": {
      "name": "python"
    }
  },
  "cells": [
    {
      "cell_type": "markdown",
      "metadata": {
        "id": "view-in-github",
        "colab_type": "text"
      },
      "source": [
        "<a href=\"https://colab.research.google.com/github/hosseinrezaie0/CI-T.A-Dr.Helmi/blob/main/Evolutionary%20Algorithm/Genetic/N-Queen%20Problem/main.ipynb\" target=\"_parent\"><img src=\"https://colab.research.google.com/assets/colab-badge.svg\" alt=\"Open In Colab\"/></a>"
      ]
    },
    {
      "cell_type": "markdown",
      "source": [
        "\n",
        "# **N-Queens problem:**\n",
        "\n",
        "\n",
        "The N-Queen Problem is a classic combinatorial problem in computer science and mathematics. It involves placing N queens on an N × N chessboard such that:\n",
        "\n",
        "No two queens conflict each other.\n",
        "\n",
        "1. Queens cannot be in the same row.\n",
        "\n",
        "2. Queens cannot be in the same column.\n",
        "\n",
        "3. Queens cannot be on the same diagonal."
      ],
      "metadata": {
        "id": "1_bEPIJw1cxk"
      }
    },
    {
      "cell_type": "markdown",
      "source": [
        "![N-Queen-Problem.png](data:image/png;base64,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)"
      ],
      "metadata": {
        "id": "DHm6Wwqi2_o_"
      }
    },
    {
      "cell_type": "markdown",
      "source": [
        "## Conflict"
      ],
      "metadata": {
        "id": "WogSZ4CyPQPL"
      }
    },
    {
      "cell_type": "markdown",
      "source": [
        "**Row Conflict:**\n",
        "\n",
        "$$Q^n_{i} == Q^m _{i}$$\n",
        "\n",
        "\n",
        "\n",
        "---\n",
        "\n",
        "\n",
        "**Column Conflict:**\n",
        "$$Q^n_{j} == Q^m _{j}$$\n",
        "\n",
        "\n",
        "---\n",
        "\n",
        "\n",
        "\n",
        "**Diagonal Conflict:**\n",
        "\n",
        "$$|Q^n_{i} - Q^m_{i}| == |Q^n_{j} - Q^m_{j}|$$\n",
        "\n",
        "\n"
      ],
      "metadata": {
        "id": "5pj1mbPx335m"
      }
    },
    {
      "cell_type": "markdown",
      "source": [
        "## Matrix representation - Bad approach!"
      ],
      "metadata": {
        "id": "6mj3bYe8O0Oa"
      }
    },
    {
      "cell_type": "markdown",
      "source": [
        "If we use a full\n",
        "𝑁\n",
        "×\n",
        "𝑁\n",
        "chessboard, we must store all cells, marking where queens are with 1 and empty spaces with 0.\n",
        "\n",
        "Each chromosome has N^2 numbers. To calculate the conflict of each chromosome we need to use nested loops. A loop for row and a loop for column. So the big O of this approach is O(N * N).\n",
        "\n",
        "\n",
        "\n",
        "\n",
        "\n",
        "```\n",
        "count = 0\n",
        "for i = 0 ; i < N ; ++i\n",
        "  for j = 0 ;  j < N ; ++j\n",
        "    if conflict == True\n",
        "      count += 1\n",
        "```\n",
        "\n",
        "\n",
        "Another problem with this representation is that it has a huge search space. The number of solutions that we should check is $$ 2^{{N ^ 2}} $$\n",
        "\n",
        "| N | O(N * N) | Search Space |\n",
        "|----------|----------|----------|\n",
        "| 4  | 16  | 65,536  |\n",
        "| 10  |100  | 2^100  |\n",
        "| 100  | 10000  | 2 ^ 10000  |\n",
        "| 1000  | 1000000  | 2 ^  1000000 |\n",
        "\n",
        "\n",
        "\n"
      ],
      "metadata": {
        "id": "Fvjas9mwPWiY"
      }
    },
    {
      "cell_type": "markdown",
      "source": [
        "## Solution"
      ],
      "metadata": {
        "id": "d_eAVZj-UdS6"
      }
    },
    {
      "cell_type": "markdown",
      "source": [
        "\n",
        "Instead of using an\n",
        "𝑁\n",
        "×\n",
        "𝑁 board, we use an array of length\n",
        "𝑁\n",
        "where:\n",
        "\n",
        "The index represents the row number.\n",
        "\n",
        "The value at that index represents the column number."
      ],
      "metadata": {
        "id": "kOtay6ngUi9S"
      }
    },
    {
      "cell_type": "markdown",
      "source": [
        "# Code"
      ],
      "metadata": {
        "id": "d87A7y8RcuJZ"
      }
    },
    {
      "cell_type": "code",
      "source": [
        "import matplotlib.pyplot as plt\n",
        "import numpy as np\n",
        "import random"
      ],
      "metadata": {
        "id": "gNrxfwcfcvij"
      },
      "execution_count": 13,
      "outputs": []
    },
    {
      "cell_type": "code",
      "source": [
        "# Set the algorithm parameters\n",
        "N =  8      # Size of the chessboard - Number of genes in each chromosome\n",
        "PS = 200    # Number of chromosomes in each generation\n",
        "epochs = 100\n",
        "MR = 0.1    # Mutation rate\n",
        "NC = 200      # Number of children of each generation"
      ],
      "metadata": {
        "id": "8XYEvS89ed5H"
      },
      "execution_count": 14,
      "outputs": []
    },
    {
      "cell_type": "markdown",
      "source": [
        "## Step 1"
      ],
      "metadata": {
        "id": "HJ5X8As7flxG"
      }
    },
    {
      "cell_type": "markdown",
      "source": [
        "Initialize the population"
      ],
      "metadata": {
        "id": "sUMJFy5yfpeo"
      }
    },
    {
      "cell_type": "code",
      "source": [
        "def init_population(n, ps):\n",
        "  population = []\n",
        "  for i in range(ps):\n",
        "    chromosome = []\n",
        "    for j in range(n):\n",
        "      gene = np.random.randint(0, n)\n",
        "      chromosome.append(gene)\n",
        "    chromosome.append(None)\n",
        "    population.append(chromosome)\n",
        "  return population"
      ],
      "metadata": {
        "id": "vTAYr4NRfiQ5"
      },
      "execution_count": 15,
      "outputs": []
    },
    {
      "cell_type": "markdown",
      "source": [
        "## Step 2"
      ],
      "metadata": {
        "id": "vc1oQzlKiJdT"
      }
    },
    {
      "cell_type": "markdown",
      "source": [
        "Repopulation\n",
        "1. Selection\n",
        "2. Crossover\n",
        "3. Mutation"
      ],
      "metadata": {
        "id": "_ZWF2R4LiR8s"
      }
    },
    {
      "cell_type": "markdown",
      "source": [
        "### **Selection**"
      ],
      "metadata": {
        "id": "6wjJLPTUjAHY"
      }
    },
    {
      "cell_type": "markdown",
      "source": [
        "#### Random Selection"
      ],
      "metadata": {
        "id": "YhrncQvVjGst"
      }
    },
    {
      "cell_type": "code",
      "source": [
        "def random_select(population):\n",
        "  i = np.random.randint(0, len(population))\n",
        "  return i"
      ],
      "metadata": {
        "id": "kZYcyWTJjStW"
      },
      "execution_count": 16,
      "outputs": []
    },
    {
      "cell_type": "markdown",
      "source": [
        "#### Roulette Wheel"
      ],
      "metadata": {
        "id": "nWYZlsbQJrr2"
      }
    },
    {
      "cell_type": "markdown",
      "source": [
        "$$ \\mathrm{Expected\\ value_{i}} = \\frac{Fitness_{i}}{\\mathrm{Average\\ fitness}} $$\n",
        "\n"
      ],
      "metadata": {
        "id": "AD4r8C-hJxrd"
      }
    },
    {
      "cell_type": "code",
      "source": [
        "def roulette_wheel_selection(population):\n",
        "  population = calculate_fitness(population, N)\n",
        "\n",
        "  average_fitness = np.sum(chromosome[-1] for chromosome in population) / len(population)\n",
        "  expected_value = [chromosome[-1] / average_fitness for chromosome in population]\n",
        "\n",
        "  T = np.sum(expected_value)\n",
        "  r = np.random.randint(0, T)\n",
        "\n",
        "  current = 0\n",
        "  for i in range(len(population)):\n",
        "    current += expected_value[i]\n",
        "    if r < current:\n",
        "      return i"
      ],
      "metadata": {
        "id": "-S6Rj8urInkR"
      },
      "execution_count": 17,
      "outputs": []
    },
    {
      "cell_type": "markdown",
      "source": [
        "#### Rank Selection"
      ],
      "metadata": {
        "id": "Iy3TuYf6AONS"
      }
    },
    {
      "cell_type": "markdown",
      "source": [
        "$$ \\mathrm{Expected Value_{i}} = min + (max - min)(\\frac{rank_{i} - 1} {N -1})$$"
      ],
      "metadata": {
        "id": "tsP3Pi4GCG06"
      }
    },
    {
      "cell_type": "markdown",
      "source": [
        "$$Rank_{i} = \\mathrm{Index\\ of\\ sorted\\ population} $$"
      ],
      "metadata": {
        "id": "X60ObqfDDAG3"
      }
    },
    {
      "cell_type": "code",
      "source": [
        "def rank_selection(population, min, max):\n",
        "  population = calculate_fitness(population, N)\n",
        "  population.sort(key=lambda x: x[-1])\n",
        "\n",
        "  expected_value = [min + ((max - min) * ((rank + 1 - 1) / len(population))) for rank in range(len(population))]\n",
        "\n",
        "  T = np.sum(expected_value)\n",
        "  r = np.random.randint(0, T)\n",
        "\n",
        "  current = 0\n",
        "  for i in range(len(population)):\n",
        "    current += expected_value[i]\n",
        "    if r < current:\n",
        "      return i"
      ],
      "metadata": {
        "id": "PZvNcKzKDgHr"
      },
      "execution_count": 27,
      "outputs": []
    },
    {
      "cell_type": "markdown",
      "source": [
        "### **Crossover**"
      ],
      "metadata": {
        "id": "_92JpXRpmwbv"
      }
    },
    {
      "cell_type": "markdown",
      "source": [
        "#### Single-Point Crossover"
      ],
      "metadata": {
        "id": "1OJn6smtmye1"
      }
    },
    {
      "cell_type": "code",
      "source": [
        "def single_point_crossover(parent1, parent2, n, point):\n",
        "  if point == 0:\n",
        "    point = np.random.randint(1, n)\n",
        "\n",
        "  child1 = parent1[:point] + parent2[point:n] + [None]\n",
        "  child2 = parent2[:point] + parent1[point:n] + [None]\n",
        "  return [child1, child2]"
      ],
      "metadata": {
        "id": "ULP4Im1EmW2U"
      },
      "execution_count": 19,
      "outputs": []
    },
    {
      "cell_type": "markdown",
      "source": [
        "### **Mutation**"
      ],
      "metadata": {
        "id": "LBd1S2serIbK"
      }
    },
    {
      "cell_type": "markdown",
      "source": [
        "#### Swap Mutation"
      ],
      "metadata": {
        "id": "C29Wun1qrUaH"
      }
    },
    {
      "cell_type": "code",
      "source": [
        "def swap_mutation(children, n, nc, mr):\n",
        "  random.shuffle(children)\n",
        "  for child in children:\n",
        "    if np.random.rand() < mr:\n",
        "      point1 = np.random.randint(0, n)\n",
        "      point2 = np.random.randint(0, n)\n",
        "      child[point1], child[point2] = child[point2], child[point1]\n",
        "  return children"
      ],
      "metadata": {
        "id": "PbnEuiBvrTs-"
      },
      "execution_count": 20,
      "outputs": []
    },
    {
      "cell_type": "markdown",
      "source": [
        "## Step 3"
      ],
      "metadata": {
        "id": "EvdDD6eCyU04"
      }
    },
    {
      "cell_type": "markdown",
      "source": [
        "Evaluate Fitness"
      ],
      "metadata": {
        "id": "QeVYj05Swvy4"
      }
    },
    {
      "cell_type": "code",
      "source": [
        "def calculate_fitness(population, n):\n",
        "    length = len(population)\n",
        "    for k in range(length):\n",
        "        conflict = 0\n",
        "        for i in range(0, n):\n",
        "            for j in range(i+1, n):\n",
        "                if population[k][i] == population[k][j]:\n",
        "                    conflict += 1\n",
        "                if abs(i - j) == abs(population[k][i] - population[k][j]):\n",
        "                    conflict += 1\n",
        "        population[k][-1] = conflict\n",
        "    return population"
      ],
      "metadata": {
        "id": "ge0GE2Y3wzmH"
      },
      "execution_count": 21,
      "outputs": []
    },
    {
      "cell_type": "markdown",
      "source": [
        "## Step 4"
      ],
      "metadata": {
        "id": "p4oXlF6Sy5ev"
      }
    },
    {
      "cell_type": "markdown",
      "source": [
        "Eliminate weak chromosomes"
      ],
      "metadata": {
        "id": "VbR-hbKhzgwu"
      }
    },
    {
      "cell_type": "code",
      "source": [
        "def eliminate(population, ps):\n",
        "  population.sort(key=lambda x: x[-1])\n",
        "  population = population[:ps]\n",
        "  return population"
      ],
      "metadata": {
        "id": "cEemytgRy7I1"
      },
      "execution_count": 22,
      "outputs": []
    },
    {
      "cell_type": "markdown",
      "source": [
        "## Draw the chessboard"
      ],
      "metadata": {
        "id": "8Oi35U_8DRYL"
      }
    },
    {
      "cell_type": "code",
      "source": [
        "def draw(solution, generation, n):\n",
        "  conflict = solution[-1]\n",
        "  solution = solution[:-1]\n",
        "  fig, ax = plt.subplots(figsize=(5, 3))\n",
        "\n",
        "  # Draw chessboard\n",
        "  for i in range(n):\n",
        "    for j in range(n):\n",
        "      color = \"white\" if (i+j) % 2 == 0 else \"gray\"\n",
        "      ax.add_patch(plt.Rectangle((i, j), 1, 1, facecolor=color))\n",
        "\n",
        "  # Draw queens\n",
        "  for col, row in enumerate(solution):\n",
        "      plt.text(col + 0.5, n - row - 0.5, '♛', fontsize=24, ha='center', va='center', color='black')\n",
        "\n",
        "  ax.set_xticks([])\n",
        "  ax.set_yticks([])\n",
        "  ax.set_xlim(0, n)\n",
        "  ax.set_ylim(0, n)\n",
        "  ax.set_title(f\"Generation {generation} Best Solution. conflicts: {conflict}\", fontsize=12)"
      ],
      "metadata": {
        "id": "URFRhLe2BZjC"
      },
      "execution_count": 23,
      "outputs": []
    },
    {
      "cell_type": "markdown",
      "source": [
        "## Main"
      ],
      "metadata": {
        "id": "aECIi6tv0JWi"
      }
    },
    {
      "cell_type": "code",
      "source": [
        "current_population = init_population(N, PS)\n",
        "\n",
        "for i in range(epochs):\n",
        "  for j in range(NC//2):\n",
        "    parent1 = rank_selection(current_population, 1, 2)\n",
        "    parent2 = rank_selection(current_population,1,2)\n",
        "    children = single_point_crossover(current_population[parent1], current_population[parent2], N, 0)\n",
        "    children = swap_mutation(children, N, NC, MR)\n",
        "    for child in children:\n",
        "      current_population.append(child)\n",
        "  current_population = calculate_fitness(current_population, N)\n",
        "  current_population = eliminate(current_population, PS)\n",
        "  print(f\"Generation {i+1}: {current_population[0]}\")\n",
        "  if current_population[0][-1] == 0:\n",
        "    draw(current_population[0], i+1, N)\n",
        "    break"
      ],
      "metadata": {
        "colab": {
          "base_uri": "https://localhost:8080/",
          "height": 708
        },
        "id": "NSZ5guJG_W8T",
        "outputId": "379be79a-50a6-4c2e-e675-ca5f52acd1c8"
      },
      "execution_count": 28,
      "outputs": [
        {
          "output_type": "stream",
          "name": "stdout",
          "text": [
            "Generation 1: [1, 6, 3, 5, 7, 4, 6, 3, 3]\n",
            "Generation 2: [2, 6, 6, 3, 1, 4, 7, 0, 2]\n",
            "Generation 3: [2, 6, 6, 3, 1, 4, 7, 0, 2]\n",
            "Generation 4: [2, 6, 6, 3, 1, 4, 7, 0, 2]\n",
            "Generation 5: [2, 6, 6, 3, 1, 4, 7, 0, 2]\n",
            "Generation 6: [2, 6, 6, 3, 1, 4, 7, 5, 1]\n",
            "Generation 7: [2, 6, 6, 3, 1, 4, 7, 5, 1]\n",
            "Generation 8: [2, 6, 6, 3, 1, 4, 7, 5, 1]\n",
            "Generation 9: [2, 6, 6, 3, 1, 4, 7, 5, 1]\n",
            "Generation 10: [2, 6, 6, 3, 1, 4, 7, 5, 1]\n",
            "Generation 11: [2, 6, 6, 3, 1, 4, 7, 5, 1]\n",
            "Generation 12: [2, 6, 6, 3, 1, 4, 7, 5, 1]\n",
            "Generation 13: [2, 6, 6, 3, 1, 4, 7, 5, 1]\n",
            "Generation 14: [2, 6, 6, 3, 1, 4, 7, 5, 1]\n",
            "Generation 15: [2, 6, 6, 3, 1, 4, 7, 5, 1]\n",
            "Generation 16: [2, 6, 6, 3, 1, 4, 7, 5, 1]\n",
            "Generation 17: [2, 6, 6, 3, 1, 4, 7, 5, 1]\n",
            "Generation 18: [2, 6, 6, 3, 1, 4, 7, 5, 1]\n",
            "Generation 19: [2, 6, 6, 3, 1, 4, 7, 5, 1]\n",
            "Generation 20: [2, 6, 6, 3, 1, 4, 7, 5, 1]\n",
            "Generation 21: [2, 6, 6, 3, 1, 4, 7, 5, 1]\n",
            "Generation 22: [2, 6, 6, 3, 1, 4, 7, 5, 1]\n",
            "Generation 23: [2, 6, 6, 3, 1, 4, 7, 5, 1]\n",
            "Generation 24: [4, 7, 3, 0, 2, 5, 1, 6, 0]\n"
          ]
        },
        {
          "output_type": "display_data",
          "data": {
            "text/plain": [
              "<Figure size 500x300 with 1 Axes>"
            ],
            "image/png": "[encoded data removed]"
          },
          "metadata": {}
        }
      ]
    }
  ]
}