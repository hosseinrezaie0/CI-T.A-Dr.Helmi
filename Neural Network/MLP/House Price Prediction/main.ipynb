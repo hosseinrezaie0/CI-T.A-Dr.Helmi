{
  "nbformat": 4,
  "nbformat_minor": 0,
  "metadata": {
    "colab": {
      "provenance": [],
      "gpuType": "T4",
      "authorship_tag": "ABX9TyNIyfwK4dSRIKGh0G1PxAB+",
      "include_colab_link": true
    },
    "kernelspec": {
      "name": "python3",
      "display_name": "Python 3"
    },
    "language_info": {
      "name": "python"
    },
    "accelerator": "GPU"
  },
  "cells": [
    {
      "cell_type": "markdown",
      "metadata": {
        "id": "view-in-github",
        "colab_type": "text"
      },
      "source": [
        "<a href=\"https://colab.research.google.com/github/hosseinrezaie0/CI-T.A-Dr.Helmi/blob/main/Neural%20Network/MLP/House%20Price%20Prediction/main.ipynb\" target=\"_parent\"><img src=\"https://colab.research.google.com/assets/colab-badge.svg\" alt=\"Open In Colab\"/></a>"
      ]
    },
    {
      "cell_type": "code",
      "execution_count": 1,
      "metadata": {
        "id": "0ReNeETF2phj"
      },
      "outputs": [],
      "source": [
        "import numpy as np\n",
        "import pandas as pd\n",
        "from tensorflow.keras.models import Sequential\n",
        "from tensorflow.keras.layers import Dense\n",
        "from sklearn.model_selection import train_test_split\n",
        "from sklearn.preprocessing import LabelEncoder\n",
        "from sklearn.preprocessing import StandardScaler\n",
        "import matplotlib.pyplot as plt"
      ]
    },
    {
      "cell_type": "code",
      "source": [
        "from sklearn.datasets import fetch_california_housing\n",
        "data = fetch_california_housing()\n",
        "X, Y = data.data, data.target"
      ],
      "metadata": {
        "id": "l9xE9omQmruY"
      },
      "execution_count": 2,
      "outputs": []
    },
    {
      "cell_type": "code",
      "source": [
        "x_train, x_test, y_train, y_test = train_test_split(X,Y,test_size=0.2)"
      ],
      "metadata": {
        "id": "fUFxt_HEfnUX"
      },
      "execution_count": 3,
      "outputs": []
    },
    {
      "cell_type": "code",
      "source": [
        "x_train.shape"
      ],
      "metadata": {
        "colab": {
          "base_uri": "https://localhost:8080/"
        },
        "id": "Y2t8m4LfnzE7",
        "outputId": "c255fd0f-be10-457b-efab-4038b7b8562e"
      },
      "execution_count": 4,
      "outputs": [
        {
          "output_type": "execute_result",
          "data": {
            "text/plain": [
              "(16512, 8)"
            ]
          },
          "metadata": {},
          "execution_count": 4
        }
      ]
    },
    {
      "cell_type": "code",
      "source": [
        "scaler = StandardScaler()\n",
        "x_train = scaler.fit_transform(x_train)\n",
        "x_test = scaler.transform(x_test)"
      ],
      "metadata": {
        "id": "1vGMNfqTo2HD"
      },
      "execution_count": 5,
      "outputs": []
    },
    {
      "cell_type": "code",
      "source": [
        "model = Sequential([\n",
        "    Dense(32, activation='tanh', input_shape=(x_train.shape[1],)),\n",
        "    Dense(16, activation='relu'),\n",
        "    Dense(1)\n",
        "])"
      ],
      "metadata": {
        "colab": {
          "base_uri": "https://localhost:8080/"
        },
        "id": "rG83KhPVnn9o",
        "outputId": "abbb02f5-5a1a-4895-95e2-549a55632e21"
      },
      "execution_count": 6,
      "outputs": [
        {
          "output_type": "stream",
          "name": "stderr",
          "text": [
            "/usr/local/lib/python3.11/dist-packages/keras/src/layers/core/dense.py:87: UserWarning: Do not pass an `input_shape`/`input_dim` argument to a layer. When using Sequential models, prefer using an `Input(shape)` object as the first layer in the model instead.\n",
            "  super().__init__(activity_regularizer=activity_regularizer, **kwargs)\n"
          ]
        }
      ]
    },
    {
      "cell_type": "code",
      "source": [
        "model.compile(\n",
        "    optimizer = 'adam',\n",
        "    loss = 'mse',\n",
        "    metrics = ['mae']\n",
        ")"
      ],
      "metadata": {
        "id": "yPPDn_SIf_9V"
      },
      "execution_count": 7,
      "outputs": []
    },
    {
      "cell_type": "code",
      "source": [
        "history = model.fit(x_train, y_train, epochs=50, batch_size=16, validation_split=0.2)"
      ],
      "metadata": {
        "colab": {
          "base_uri": "https://localhost:8080/"
        },
        "id": "roaxjUpQgLnX",
        "outputId": "b60cc05a-c30a-48ce-faa4-9995c4955483"
      },
      "execution_count": 8,
      "outputs": [
        {
          "output_type": "stream",
          "name": "stdout",
          "text": [
            "Epoch 1/50\n",
            "\u001b[1m826/826\u001b[0m \u001b[32m━━━━━━━━━━━━━━━━━━━━\u001b[0m\u001b[37m\u001b[0m \u001b[1m11s\u001b[0m 9ms/step - loss: 1.2205 - mae: 0.7736 - val_loss: 0.4129 - val_mae: 0.4618\n",
            "Epoch 2/50\n",
            "\u001b[1m826/826\u001b[0m \u001b[32m━━━━━━━━━━━━━━━━━━━━\u001b[0m\u001b[37m\u001b[0m \u001b[1m4s\u001b[0m 3ms/step - loss: 0.3985 - mae: 0.4509 - val_loss: 0.3887 - val_mae: 0.4354\n",
            "Epoch 3/50\n",
            "\u001b[1m826/826\u001b[0m \u001b[32m━━━━━━━━━━━━━━━━━━━━\u001b[0m\u001b[37m\u001b[0m \u001b[1m3s\u001b[0m 3ms/step - loss: 0.3577 - mae: 0.4251 - val_loss: 0.3816 - val_mae: 0.4280\n",
            "Epoch 4/50\n",
            "\u001b[1m826/826\u001b[0m \u001b[32m━━━━━━━━━━━━━━━━━━━━\u001b[0m\u001b[37m\u001b[0m \u001b[1m3s\u001b[0m 3ms/step - loss: 0.3533 - mae: 0.4207 - val_loss: 0.3597 - val_mae: 0.4168\n",
            "Epoch 5/50\n",
            "\u001b[1m826/826\u001b[0m \u001b[32m━━━━━━━━━━━━━━━━━━━━\u001b[0m\u001b[37m\u001b[0m \u001b[1m5s\u001b[0m 3ms/step - loss: 0.3417 - mae: 0.4123 - val_loss: 0.3455 - val_mae: 0.4034\n",
            "Epoch 6/50\n",
            "\u001b[1m826/826\u001b[0m \u001b[32m━━━━━━━━━━━━━━━━━━━━\u001b[0m\u001b[37m\u001b[0m \u001b[1m5s\u001b[0m 3ms/step - loss: 0.3298 - mae: 0.4048 - val_loss: 0.3446 - val_mae: 0.4092\n",
            "Epoch 7/50\n",
            "\u001b[1m826/826\u001b[0m \u001b[32m━━━━━━━━━━━━━━━━━━━━\u001b[0m\u001b[37m\u001b[0m \u001b[1m3s\u001b[0m 4ms/step - loss: 0.3253 - mae: 0.3998 - val_loss: 0.3311 - val_mae: 0.3993\n",
            "Epoch 8/50\n",
            "\u001b[1m826/826\u001b[0m \u001b[32m━━━━━━━━━━━━━━━━━━━━\u001b[0m\u001b[37m\u001b[0m \u001b[1m3s\u001b[0m 3ms/step - loss: 0.3123 - mae: 0.3930 - val_loss: 0.3266 - val_mae: 0.3939\n",
            "Epoch 9/50\n",
            "\u001b[1m826/826\u001b[0m \u001b[32m━━━━━━━━━━━━━━━━━━━━\u001b[0m\u001b[37m\u001b[0m \u001b[1m3s\u001b[0m 3ms/step - loss: 0.3180 - mae: 0.3936 - val_loss: 0.3184 - val_mae: 0.3920\n",
            "Epoch 10/50\n",
            "\u001b[1m826/826\u001b[0m \u001b[32m━━━━━━━━━━━━━━━━━━━━\u001b[0m\u001b[37m\u001b[0m \u001b[1m2s\u001b[0m 3ms/step - loss: 0.2965 - mae: 0.3809 - val_loss: 0.3303 - val_mae: 0.3860\n",
            "Epoch 11/50\n",
            "\u001b[1m826/826\u001b[0m \u001b[32m━━━━━━━━━━━━━━━━━━━━\u001b[0m\u001b[37m\u001b[0m \u001b[1m3s\u001b[0m 3ms/step - loss: 0.2857 - mae: 0.3751 - val_loss: 0.3148 - val_mae: 0.3835\n",
            "Epoch 12/50\n",
            "\u001b[1m826/826\u001b[0m \u001b[32m━━━━━━━━━━━━━━━━━━━━\u001b[0m\u001b[37m\u001b[0m \u001b[1m5s\u001b[0m 3ms/step - loss: 0.3101 - mae: 0.3827 - val_loss: 0.3103 - val_mae: 0.3769\n",
            "Epoch 13/50\n",
            "\u001b[1m826/826\u001b[0m \u001b[32m━━━━━━━━━━━━━━━━━━━━\u001b[0m\u001b[37m\u001b[0m \u001b[1m3s\u001b[0m 3ms/step - loss: 0.2864 - mae: 0.3726 - val_loss: 0.3204 - val_mae: 0.3769\n",
            "Epoch 14/50\n",
            "\u001b[1m826/826\u001b[0m \u001b[32m━━━━━━━━━━━━━━━━━━━━\u001b[0m\u001b[37m\u001b[0m \u001b[1m2s\u001b[0m 3ms/step - loss: 0.2845 - mae: 0.3752 - val_loss: 0.3100 - val_mae: 0.3796\n",
            "Epoch 15/50\n",
            "\u001b[1m826/826\u001b[0m \u001b[32m━━━━━━━━━━━━━━━━━━━━\u001b[0m\u001b[37m\u001b[0m \u001b[1m3s\u001b[0m 3ms/step - loss: 0.2917 - mae: 0.3745 - val_loss: 0.3072 - val_mae: 0.3781\n",
            "Epoch 16/50\n",
            "\u001b[1m826/826\u001b[0m \u001b[32m━━━━━━━━━━━━━━━━━━━━\u001b[0m\u001b[37m\u001b[0m \u001b[1m3s\u001b[0m 3ms/step - loss: 0.2937 - mae: 0.3739 - val_loss: 0.3051 - val_mae: 0.3702\n",
            "Epoch 17/50\n",
            "\u001b[1m826/826\u001b[0m \u001b[32m━━━━━━━━━━━━━━━━━━━━\u001b[0m\u001b[37m\u001b[0m \u001b[1m5s\u001b[0m 3ms/step - loss: 0.2819 - mae: 0.3661 - val_loss: 0.3179 - val_mae: 0.3794\n",
            "Epoch 18/50\n",
            "\u001b[1m826/826\u001b[0m \u001b[32m━━━━━━━━━━━━━━━━━━━━\u001b[0m\u001b[37m\u001b[0m \u001b[1m2s\u001b[0m 3ms/step - loss: 0.2994 - mae: 0.3749 - val_loss: 0.3115 - val_mae: 0.3699\n",
            "Epoch 19/50\n",
            "\u001b[1m826/826\u001b[0m \u001b[32m━━━━━━━━━━━━━━━━━━━━\u001b[0m\u001b[37m\u001b[0m \u001b[1m3s\u001b[0m 3ms/step - loss: 0.2730 - mae: 0.3627 - val_loss: 0.3053 - val_mae: 0.3748\n",
            "Epoch 20/50\n",
            "\u001b[1m826/826\u001b[0m \u001b[32m━━━━━━━━━━━━━━━━━━━━\u001b[0m\u001b[37m\u001b[0m \u001b[1m3s\u001b[0m 4ms/step - loss: 0.2903 - mae: 0.3700 - val_loss: 0.3046 - val_mae: 0.3696\n",
            "Epoch 21/50\n",
            "\u001b[1m826/826\u001b[0m \u001b[32m━━━━━━━━━━━━━━━━━━━━\u001b[0m\u001b[37m\u001b[0m \u001b[1m4s\u001b[0m 3ms/step - loss: 0.2822 - mae: 0.3663 - val_loss: 0.3175 - val_mae: 0.3780\n",
            "Epoch 22/50\n",
            "\u001b[1m826/826\u001b[0m \u001b[32m━━━━━━━━━━━━━━━━━━━━\u001b[0m\u001b[37m\u001b[0m \u001b[1m2s\u001b[0m 3ms/step - loss: 0.2712 - mae: 0.3603 - val_loss: 0.3086 - val_mae: 0.3735\n",
            "Epoch 23/50\n",
            "\u001b[1m826/826\u001b[0m \u001b[32m━━━━━━━━━━━━━━━━━━━━\u001b[0m\u001b[37m\u001b[0m \u001b[1m3s\u001b[0m 3ms/step - loss: 0.2895 - mae: 0.3671 - val_loss: 0.3016 - val_mae: 0.3723\n",
            "Epoch 24/50\n",
            "\u001b[1m826/826\u001b[0m \u001b[32m━━━━━━━━━━━━━━━━━━━━\u001b[0m\u001b[37m\u001b[0m \u001b[1m3s\u001b[0m 4ms/step - loss: 0.2846 - mae: 0.3674 - val_loss: 0.3057 - val_mae: 0.3676\n",
            "Epoch 25/50\n",
            "\u001b[1m826/826\u001b[0m \u001b[32m━━━━━━━━━━━━━━━━━━━━\u001b[0m\u001b[37m\u001b[0m \u001b[1m2s\u001b[0m 3ms/step - loss: 0.2686 - mae: 0.3576 - val_loss: 0.3001 - val_mae: 0.3725\n",
            "Epoch 26/50\n",
            "\u001b[1m826/826\u001b[0m \u001b[32m━━━━━━━━━━━━━━━━━━━━\u001b[0m\u001b[37m\u001b[0m \u001b[1m2s\u001b[0m 3ms/step - loss: 0.2774 - mae: 0.3636 - val_loss: 0.3031 - val_mae: 0.3681\n",
            "Epoch 27/50\n",
            "\u001b[1m826/826\u001b[0m \u001b[32m━━━━━━━━━━━━━━━━━━━━\u001b[0m\u001b[37m\u001b[0m \u001b[1m3s\u001b[0m 3ms/step - loss: 0.2707 - mae: 0.3594 - val_loss: 0.3159 - val_mae: 0.3896\n",
            "Epoch 28/50\n",
            "\u001b[1m826/826\u001b[0m \u001b[32m━━━━━━━━━━━━━━━━━━━━\u001b[0m\u001b[37m\u001b[0m \u001b[1m5s\u001b[0m 3ms/step - loss: 0.2707 - mae: 0.3580 - val_loss: 0.3077 - val_mae: 0.3780\n",
            "Epoch 29/50\n",
            "\u001b[1m826/826\u001b[0m \u001b[32m━━━━━━━━━━━━━━━━━━━━\u001b[0m\u001b[37m\u001b[0m \u001b[1m2s\u001b[0m 3ms/step - loss: 0.2723 - mae: 0.3616 - val_loss: 0.3029 - val_mae: 0.3705\n",
            "Epoch 30/50\n",
            "\u001b[1m826/826\u001b[0m \u001b[32m━━━━━━━━━━━━━━━━━━━━\u001b[0m\u001b[37m\u001b[0m \u001b[1m3s\u001b[0m 3ms/step - loss: 0.2765 - mae: 0.3594 - val_loss: 0.3120 - val_mae: 0.3866\n",
            "Epoch 31/50\n",
            "\u001b[1m826/826\u001b[0m \u001b[32m━━━━━━━━━━━━━━━━━━━━\u001b[0m\u001b[37m\u001b[0m \u001b[1m2s\u001b[0m 3ms/step - loss: 0.2807 - mae: 0.3640 - val_loss: 0.2992 - val_mae: 0.3635\n",
            "Epoch 32/50\n",
            "\u001b[1m826/826\u001b[0m \u001b[32m━━━━━━━━━━━━━━━━━━━━\u001b[0m\u001b[37m\u001b[0m \u001b[1m4s\u001b[0m 4ms/step - loss: 0.2730 - mae: 0.3582 - val_loss: 0.3000 - val_mae: 0.3656\n",
            "Epoch 33/50\n",
            "\u001b[1m826/826\u001b[0m \u001b[32m━━━━━━━━━━━━━━━━━━━━\u001b[0m\u001b[37m\u001b[0m \u001b[1m4s\u001b[0m 3ms/step - loss: 0.2621 - mae: 0.3545 - val_loss: 0.3000 - val_mae: 0.3648\n",
            "Epoch 34/50\n",
            "\u001b[1m826/826\u001b[0m \u001b[32m━━━━━━━━━━━━━━━━━━━━\u001b[0m\u001b[37m\u001b[0m \u001b[1m3s\u001b[0m 3ms/step - loss: 0.2867 - mae: 0.3663 - val_loss: 0.2944 - val_mae: 0.3651\n",
            "Epoch 35/50\n",
            "\u001b[1m826/826\u001b[0m \u001b[32m━━━━━━━━━━━━━━━━━━━━\u001b[0m\u001b[37m\u001b[0m \u001b[1m2s\u001b[0m 3ms/step - loss: 0.2574 - mae: 0.3517 - val_loss: 0.3018 - val_mae: 0.3619\n",
            "Epoch 36/50\n",
            "\u001b[1m826/826\u001b[0m \u001b[32m━━━━━━━━━━━━━━━━━━━━\u001b[0m\u001b[37m\u001b[0m \u001b[1m3s\u001b[0m 3ms/step - loss: 0.2644 - mae: 0.3561 - val_loss: 0.2994 - val_mae: 0.3781\n",
            "Epoch 37/50\n",
            "\u001b[1m826/826\u001b[0m \u001b[32m━━━━━━━━━━━━━━━━━━━━\u001b[0m\u001b[37m\u001b[0m \u001b[1m5s\u001b[0m 3ms/step - loss: 0.2524 - mae: 0.3500 - val_loss: 0.3013 - val_mae: 0.3656\n",
            "Epoch 38/50\n",
            "\u001b[1m826/826\u001b[0m \u001b[32m━━━━━━━━━━━━━━━━━━━━\u001b[0m\u001b[37m\u001b[0m \u001b[1m3s\u001b[0m 3ms/step - loss: 0.2669 - mae: 0.3539 - val_loss: 0.2961 - val_mae: 0.3690\n",
            "Epoch 39/50\n",
            "\u001b[1m826/826\u001b[0m \u001b[32m━━━━━━━━━━━━━━━━━━━━\u001b[0m\u001b[37m\u001b[0m \u001b[1m2s\u001b[0m 3ms/step - loss: 0.2715 - mae: 0.3552 - val_loss: 0.3012 - val_mae: 0.3739\n",
            "Epoch 40/50\n",
            "\u001b[1m826/826\u001b[0m \u001b[32m━━━━━━━━━━━━━━━━━━━━\u001b[0m\u001b[37m\u001b[0m \u001b[1m3s\u001b[0m 4ms/step - loss: 0.2626 - mae: 0.3517 - val_loss: 0.2992 - val_mae: 0.3676\n",
            "Epoch 41/50\n",
            "\u001b[1m826/826\u001b[0m \u001b[32m━━━━━━━━━━━━━━━━━━━━\u001b[0m\u001b[37m\u001b[0m \u001b[1m5s\u001b[0m 3ms/step - loss: 0.2610 - mae: 0.3527 - val_loss: 0.3053 - val_mae: 0.3870\n",
            "Epoch 42/50\n",
            "\u001b[1m826/826\u001b[0m \u001b[32m━━━━━━━━━━━━━━━━━━━━\u001b[0m\u001b[37m\u001b[0m \u001b[1m5s\u001b[0m 3ms/step - loss: 0.2680 - mae: 0.3572 - val_loss: 0.3101 - val_mae: 0.3783\n",
            "Epoch 43/50\n",
            "\u001b[1m826/826\u001b[0m \u001b[32m━━━━━━━━━━━━━━━━━━━━\u001b[0m\u001b[37m\u001b[0m \u001b[1m3s\u001b[0m 4ms/step - loss: 0.2597 - mae: 0.3494 - val_loss: 0.3016 - val_mae: 0.3651\n",
            "Epoch 44/50\n",
            "\u001b[1m826/826\u001b[0m \u001b[32m━━━━━━━━━━━━━━━━━━━━\u001b[0m\u001b[37m\u001b[0m \u001b[1m3s\u001b[0m 3ms/step - loss: 0.2619 - mae: 0.3526 - val_loss: 0.3061 - val_mae: 0.3799\n",
            "Epoch 45/50\n",
            "\u001b[1m826/826\u001b[0m \u001b[32m━━━━━━━━━━━━━━━━━━━━\u001b[0m\u001b[37m\u001b[0m \u001b[1m3s\u001b[0m 3ms/step - loss: 0.2618 - mae: 0.3534 - val_loss: 0.3000 - val_mae: 0.3759\n",
            "Epoch 46/50\n",
            "\u001b[1m826/826\u001b[0m \u001b[32m━━━━━━━━━━━━━━━━━━━━\u001b[0m\u001b[37m\u001b[0m \u001b[1m5s\u001b[0m 3ms/step - loss: 0.2608 - mae: 0.3530 - val_loss: 0.3059 - val_mae: 0.3759\n",
            "Epoch 47/50\n",
            "\u001b[1m826/826\u001b[0m \u001b[32m━━━━━━━━━━━━━━━━━━━━\u001b[0m\u001b[37m\u001b[0m \u001b[1m3s\u001b[0m 4ms/step - loss: 0.2654 - mae: 0.3524 - val_loss: 0.2992 - val_mae: 0.3632\n",
            "Epoch 48/50\n",
            "\u001b[1m826/826\u001b[0m \u001b[32m━━━━━━━━━━━━━━━━━━━━\u001b[0m\u001b[37m\u001b[0m \u001b[1m4s\u001b[0m 3ms/step - loss: 0.2616 - mae: 0.3502 - val_loss: 0.2893 - val_mae: 0.3611\n",
            "Epoch 49/50\n",
            "\u001b[1m826/826\u001b[0m \u001b[32m━━━━━━━━━━━━━━━━━━━━\u001b[0m\u001b[37m\u001b[0m \u001b[1m3s\u001b[0m 3ms/step - loss: 0.2663 - mae: 0.3547 - val_loss: 0.2981 - val_mae: 0.3641\n",
            "Epoch 50/50\n",
            "\u001b[1m826/826\u001b[0m \u001b[32m━━━━━━━━━━━━━━━━━━━━\u001b[0m\u001b[37m\u001b[0m \u001b[1m3s\u001b[0m 3ms/step - loss: 0.2654 - mae: 0.3486 - val_loss: 0.2939 - val_mae: 0.3660\n"
          ]
        }
      ]
    },
    {
      "cell_type": "code",
      "source": [
        "loss_train = history.history['loss']\n",
        "acc_train = history.history['mae']\n",
        "loss_val = history.history['val_loss']\n",
        "acc_val = history.history['val_mae']"
      ],
      "metadata": {
        "id": "8TqsWzaKoWO_"
      },
      "execution_count": 9,
      "outputs": []
    },
    {
      "cell_type": "code",
      "source": [
        "plt.plot(loss_train, label='Training Loss', color='g')\n",
        "plt.plot(loss_val, label='Validation Loss', color='r')"
      ],
      "metadata": {
        "id": "bjtrTTWOocEr",
        "colab": {
          "base_uri": "https://localhost:8080/",
          "height": 452
        },
        "outputId": "a97661cb-6629-4d18-c473-f91b62910033"
      },
      "execution_count": 10,
      "outputs": [
        {
          "output_type": "execute_result",
          "data": {
            "text/plain": [
              "[<matplotlib.lines.Line2D at 0x7efde003a090>]"
            ]
          },
          "metadata": {},
          "execution_count": 10
        },
        {
          "output_type": "display_data",
          "data": {
            "text/plain": [
              "<Figure size 640x480 with 1 Axes>"
            ],
            "image/png": "[encoded data removed]"
          },
          "metadata": {}
        }
      ]
    },
    {
      "cell_type": "code",
      "source": [
        "loss, mae = model.evaluate(x_test, y_test)"
      ],
      "metadata": {
        "colab": {
          "base_uri": "https://localhost:8080/"
        },
        "id": "e2b06QMTvNeg",
        "outputId": "455fc19e-4f3a-4fe2-dcb8-3dc180802524"
      },
      "execution_count": 11,
      "outputs": [
        {
          "output_type": "stream",
          "name": "stdout",
          "text": [
            "\u001b[1m129/129\u001b[0m \u001b[32m━━━━━━━━━━━━━━━━━━━━\u001b[0m\u001b[37m\u001b[0m \u001b[1m1s\u001b[0m 2ms/step - loss: 0.2994 - mae: 0.3789\n"
          ]
        }
      ]
    },
    {
      "cell_type": "code",
      "source": [
        "loss_data1, mae_data1 = model.evaluate([[]])"
      ],
      "metadata": {
        "id": "2bCrGyqUvU71"
      },
      "execution_count": null,
      "outputs": []
    }
  ]
}